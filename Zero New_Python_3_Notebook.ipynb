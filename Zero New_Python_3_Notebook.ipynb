{
  "nbformat": 4,
  "nbformat_minor": 0,
  "metadata": {
    "colab": {
      "name": "New Python 3 Notebook.ipynb",
      "provenance": [],
      "collapsed_sections": [],
      "authorship_tag": "ABX9TyPsMiUyS4i85yGop4Ckou/g",
      "include_colab_link": true
    },
    "kernelspec": {
      "name": "python3",
      "display_name": "Python 3"
    }
  },
  "cells": [
    {
      "cell_type": "markdown",
      "metadata": {
        "id": "view-in-github",
        "colab_type": "text"
      },
      "source": [
        "<a href=\"https://colab.research.google.com/github/Drewzero21/Fall2020/blob/master/Zero%20New_Python_3_Notebook.ipynb\" target=\"_parent\"><img src=\"https://colab.research.google.com/assets/colab-badge.svg\" alt=\"Open In Colab\"/></a>"
      ]
    },
    {
      "cell_type": "markdown",
      "metadata": {
        "id": "4iPjtXp6dAPc",
        "colab_type": "text"
      },
      "source": [
        "#  Do you like using Jupyter Notebooks?"
      ]
    },
    {
      "cell_type": "markdown",
      "metadata": {
        "id": "4JhBEn3Ms2I3",
        "colab_type": "text"
      },
      "source": [
        "Yes I enjoy using Jupyter Notebooks. I find it pretty easy to navigate. "
      ]
    },
    {
      "cell_type": "markdown",
      "metadata": {
        "id": "a6zh61hUdiQJ",
        "colab_type": "text"
      },
      "source": [
        "## What do you want to learn more about in Jupyter Notebooks?"
      ]
    },
    {
      "cell_type": "markdown",
      "metadata": {
        "id": "veObfNjPc1a5",
        "colab_type": "text"
      },
      "source": [
        "I would like to know more about how to insert videos and other formats besides pictures. Also if clips of music could be inserted. "
      ]
    },
    {
      "cell_type": "markdown",
      "metadata": {
        "id": "8Xfnwa9SnqlF",
        "colab_type": "text"
      },
      "source": [
        "![](https://raw.githubusercontent.com/Drewzero21/New-Lab---1/master/3oXHFTuCQlqYpWYRA2NzBA.jpg)"
      ]
    },
    {
      "cell_type": "code",
      "metadata": {
        "id": "E09Dj6kEr3gX",
        "colab_type": "code",
        "colab": {}
      },
      "source": [
        ""
      ],
      "execution_count": null,
      "outputs": []
    }
  ]
}