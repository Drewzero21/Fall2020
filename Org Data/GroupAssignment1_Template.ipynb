{
  "nbformat": 4,
  "nbformat_minor": 0,
  "metadata": {
    "colab": {
      "name": "GroupAssignment1-Template.ipynb",
      "provenance": [],
      "authorship_tag": "ABX9TyNoZ/WtGebW2x/fpxRiyzph",
      "include_colab_link": true
    },
    "kernelspec": {
      "name": "python3",
      "display_name": "Python 3"
    }
  },
  "cells": [
    {
      "cell_type": "markdown",
      "metadata": {
        "id": "view-in-github",
        "colab_type": "text"
      },
      "source": [
        "<a href=\"https://colab.research.google.com/github/dudaspm/Fall2020/blob/master/Org%20Data/GroupAssignment1_Template.ipynb\" target=\"_parent\"><img src=\"https://colab.research.google.com/assets/colab-badge.svg\" alt=\"Open In Colab\"/></a>"
      ]
    },
    {
      "cell_type": "markdown",
      "metadata": {
        "id": "UblhAIGuGF27",
        "colab_type": "text"
      },
      "source": [
        "# Project Title (edit)"
      ]
    },
    {
      "cell_type": "markdown",
      "metadata": {
        "id": "RlR0_Ol4GW3b",
        "colab_type": "text"
      },
      "source": [
        "### what is your idea?"
      ]
    },
    {
      "cell_type": "markdown",
      "metadata": {
        "id": "HU68Zv5MGY97",
        "colab_type": "text"
      },
      "source": [
        "-- your response (at least 2 sentences)"
      ]
    },
    {
      "cell_type": "markdown",
      "metadata": {
        "id": "45Q0PBrIGiIg",
        "colab_type": "text"
      },
      "source": [
        "### what makes it unique?"
      ]
    },
    {
      "cell_type": "markdown",
      "metadata": {
        "id": "8WOfTAuqGjoc",
        "colab_type": "text"
      },
      "source": [
        "-- your response (at least 2 sentences)"
      ]
    },
    {
      "cell_type": "markdown",
      "metadata": {
        "id": "dVrktWdXGl19",
        "colab_type": "text"
      },
      "source": [
        "### is this a brand-new product or business, or are you borrowing from another business?"
      ]
    },
    {
      "cell_type": "markdown",
      "metadata": {
        "id": "MmGY0leUGnaN",
        "colab_type": "text"
      },
      "source": [
        "-- your response (at least 2 sentences)"
      ]
    },
    {
      "cell_type": "markdown",
      "metadata": {
        "id": "k3oJzVDPGnws",
        "colab_type": "text"
      },
      "source": [
        "### describe a typical business interaction or a day at your business."
      ]
    },
    {
      "cell_type": "markdown",
      "metadata": {
        "id": "GeEKl-lUG1x5",
        "colab_type": "text"
      },
      "source": [
        "-- your response (at least 4 sentences)"
      ]
    },
    {
      "cell_type": "markdown",
      "metadata": {
        "id": "iUFoC5BuGpID",
        "colab_type": "text"
      },
      "source": [
        "### list your 5 entities/tables and for each, provide details about what data will be stored in the entities/tables."
      ]
    },
    {
      "cell_type": "markdown",
      "metadata": {
        "id": "AiZXrfSMGqZm",
        "colab_type": "text"
      },
      "source": [
        "1. entity\n",
        "\n",
        "-- your response (at least 1 sentence)\n",
        "\n",
        "2. entity\n",
        "\n",
        "-- your response (at least 1 sentence)\n",
        "\n",
        "3. entity\n",
        "\n",
        "-- your response (at least 1 sentence)\n",
        "\n",
        "4. entity\n",
        "\n",
        "-- your response (at least 1 sentence)\n",
        "\n",
        "5. entity\n",
        "\n",
        "-- your response (at least 1 sentence)"
      ]
    },
    {
      "cell_type": "markdown",
      "metadata": {
        "id": "h2mJWTewHLSn",
        "colab_type": "text"
      },
      "source": [
        "Draw IO Entity Relationship Diagram \n",
        "\n",
        "- save your ER Diagram in Draw.io as PNG and upload it to GitHub\n",
        "\n",
        "  - then add an image to your notebook"
      ]
    },
    {
      "cell_type": "markdown",
      "metadata": {
        "id": "WFQXwieoHiCe",
        "colab_type": "text"
      },
      "source": [
        "### provide a goal for your project "
      ]
    },
    {
      "cell_type": "markdown",
      "metadata": {
        "id": "cKmoiVHrHnHF",
        "colab_type": "text"
      },
      "source": [
        "-- your response (at least 2 sentences)"
      ]
    }
  ]
}