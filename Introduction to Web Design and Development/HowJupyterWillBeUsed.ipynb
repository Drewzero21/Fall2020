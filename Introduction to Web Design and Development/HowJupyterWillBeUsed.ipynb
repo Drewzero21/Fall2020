{
  "nbformat": 4,
  "nbformat_minor": 0,
  "metadata": {
    "colab": {
      "name": "HowJupyterWillBeUsed.ipynb",
      "provenance": [],
      "authorship_tag": "ABX9TyNYoSIQsdR6YR4sZ+HSA71t",
      "include_colab_link": true
    },
    "kernelspec": {
      "name": "python3",
      "display_name": "Python 3"
    }
  },
  "cells": [
    {
      "cell_type": "markdown",
      "metadata": {
        "id": "view-in-github",
        "colab_type": "text"
      },
      "source": [
        "<a href=\"https://colab.research.google.com/github/dudaspm/Fall2020/blob/master/Introduction%20to%20Web%20Design%20and%20Development/HowJupyterWillBeUsed.ipynb\" target=\"_parent\"><img src=\"https://colab.research.google.com/assets/colab-badge.svg\" alt=\"Open In Colab\"/></a>"
      ]
    },
    {
      "cell_type": "code",
      "metadata": {
        "id": "va6ot5dJ7SwI",
        "colab_type": "code",
        "colab": {
          "base_uri": "https://localhost:8080/",
          "height": 455
        },
        "outputId": "6c433d7f-873c-40c3-e621-029dad1b407a"
      },
      "source": [
        "%%html\n",
        "<!DOCTYPE html>\n",
        "<html lang=\"en\">\n",
        "<head>\n",
        "  <style>\n",
        "    .header { grid-area: header; }\n",
        "    .menu { grid-area: menu; }\n",
        "    .main { grid-area: main; }\n",
        "    .right { grid-area: right; }\n",
        "    .footer { grid-area: footer; }\n",
        "\n",
        "    .grid-container {\n",
        "      display: grid;\n",
        "      grid-template-areas:\n",
        "        'header header header header'\n",
        "        'menu menu menu menu'\n",
        "        'main main main right'\n",
        "        'footer footer footer footer';\n",
        "      grid-gap: 10px;\n",
        "      background-color: #2196F3;\n",
        "      padding: 10px;\n",
        "    }\n",
        "\n",
        "    .grid-container > div {\n",
        "      background-color: rgba(255, 255, 255, 0.8);\n",
        "      text-align: center;\n",
        "      padding: 30px 0;\n",
        "      font-size: 30px;\n",
        "    }\n",
        "  </style>\n",
        "</head>\n",
        "<body>\n",
        "<div class=\"grid-container\">\n",
        "  <div class=\"header\">Header</div>\n",
        "  <div class=\"menu\">Menu</div>\n",
        "  <div class=\"main\">Main</div>  \n",
        "  <div class=\"right\">Right</div>\n",
        "  <div class=\"footer\">Footer</div>\n",
        "</div>\n",
        "\n",
        "</body>\n",
        "</html>"
      ],
      "execution_count": null,
      "outputs": [
        {
          "output_type": "display_data",
          "data": {
            "text/html": [
              "<!DOCTYPE html>\n",
              "<html lang=\"en\">\n",
              "<head>\n",
              "  <style>\n",
              "    .header { grid-area: header; }\n",
              "    .menu { grid-area: menu; }\n",
              "    .main { grid-area: main; }\n",
              "    .right { grid-area: right; }\n",
              "    .footer { grid-area: footer; }\n",
              "\n",
              "    .grid-container {\n",
              "      display: grid;\n",
              "      grid-template-areas:\n",
              "        'header header header header'\n",
              "        'menu menu menu menu'\n",
              "        'main main main right'\n",
              "        'footer footer footer footer';\n",
              "      grid-gap: 10px;\n",
              "      background-color: #2196F3;\n",
              "      padding: 10px;\n",
              "    }\n",
              "\n",
              "    .grid-container > div {\n",
              "      background-color: rgba(255, 255, 255, 0.8);\n",
              "      text-align: center;\n",
              "      padding: 30px 0;\n",
              "      font-size: 30px;\n",
              "    }\n",
              "  </style>\n",
              "</head>\n",
              "<body>\n",
              "<div class=\"grid-container\">\n",
              "  <div class=\"header\">Header</div>\n",
              "  <div class=\"menu\">Menu</div>\n",
              "  <div class=\"main\">Main</div>  \n",
              "  <div class=\"right\">Right</div>\n",
              "  <div class=\"footer\">Footer</div>\n",
              "</div>\n",
              "\n",
              "</body>\n",
              "</html>"
            ],
            "text/plain": [
              "<IPython.core.display.HTML object>"
            ]
          },
          "metadata": {
            "tags": []
          }
        }
      ]
    },
    {
      "cell_type": "code",
      "metadata": {
        "id": "FKWnJuOL7gh-",
        "colab_type": "code",
        "colab": {
          "base_uri": "https://localhost:8080/",
          "height": 455
        },
        "outputId": "93e1cbd7-8c25-4fac-aad0-84750798f4ff"
      },
      "source": [
        "%%html\n",
        "<!DOCTYPE html>\n",
        "<html lang=\"en\">\n",
        "<head>\n",
        "  <style>\n",
        "    .header { grid-area: header; }\n",
        "    .menu { grid-area: menu; }\n",
        "    .main { grid-area: main; }\n",
        "    .right { grid-area: right; }\n",
        "    .footer { grid-area: footer; }\n",
        "\n",
        "    .grid-container {\n",
        "      display: grid;\n",
        "      grid-template-areas:\n",
        "        'header header header header'\n",
        "        'menu menu menu menu'\n",
        "        'main main main right'\n",
        "        'footer footer footer footer';\n",
        "      grid-gap: 10px;\n",
        "      background-color: #FF6F61;\n",
        "      padding: 10px;\n",
        "    }\n",
        "\n",
        "    .grid-container > div {\n",
        "      background-color: rgba(255, 255, 255, 0.8);\n",
        "      text-align: center;\n",
        "      padding: 30px 0;\n",
        "      font-size: 30px;\n",
        "    }\n",
        "  </style>\n",
        "</head>\n",
        "<body>\n",
        "<div class=\"grid-container\">\n",
        "  <div class=\"header\">Header</div>\n",
        "  <div class=\"menu\">Menu</div>\n",
        "  <div class=\"main\">Main</div>  \n",
        "  <div class=\"right\">Right</div>\n",
        "  <div class=\"footer\">Footer</div>\n",
        "</div>\n",
        "\n",
        "</body>\n",
        "</html>"
      ],
      "execution_count": null,
      "outputs": [
        {
          "output_type": "display_data",
          "data": {
            "text/html": [
              "<!DOCTYPE html>\n",
              "<html lang=\"en\">\n",
              "<head>\n",
              "  <style>\n",
              "    .header { grid-area: header; }\n",
              "    .menu { grid-area: menu; }\n",
              "    .main { grid-area: main; }\n",
              "    .right { grid-area: right; }\n",
              "    .footer { grid-area: footer; }\n",
              "\n",
              "    .grid-container {\n",
              "      display: grid;\n",
              "      grid-template-areas:\n",
              "        'header header header header'\n",
              "        'menu menu menu menu'\n",
              "        'main main main right'\n",
              "        'footer footer footer footer';\n",
              "      grid-gap: 10px;\n",
              "      background-color: #FF6F61;\n",
              "      padding: 10px;\n",
              "    }\n",
              "\n",
              "    .grid-container > div {\n",
              "      background-color: rgba(255, 255, 255, 0.8);\n",
              "      text-align: center;\n",
              "      padding: 30px 0;\n",
              "      font-size: 30px;\n",
              "    }\n",
              "  </style>\n",
              "</head>\n",
              "<body>\n",
              "<div class=\"grid-container\">\n",
              "  <div class=\"header\">Header</div>\n",
              "  <div class=\"menu\">Menu</div>\n",
              "  <div class=\"main\">Main</div>  \n",
              "  <div class=\"right\">Right</div>\n",
              "  <div class=\"footer\">Footer</div>\n",
              "</div>\n",
              "\n",
              "</body>\n",
              "</html>"
            ],
            "text/plain": [
              "<IPython.core.display.HTML object>"
            ]
          },
          "metadata": {
            "tags": []
          }
        }
      ]
    },
    {
      "cell_type": "code",
      "metadata": {
        "id": "O3hayBQE7sEa",
        "colab_type": "code",
        "colab": {
          "base_uri": "https://localhost:8080/",
          "height": 455
        },
        "outputId": "8f153b6b-0d1b-4e42-c6cc-253672ec05ec"
      },
      "source": [
        "%%html\n",
        "<!DOCTYPE html>\n",
        "<html lang=\"en\">\n",
        "<head>\n",
        "  <style>\n",
        "    .header { grid-area: header; }\n",
        "    .menu { grid-area: menu; }\n",
        "    .main { grid-area: main; }\n",
        "    .right { grid-area: right; }\n",
        "    .footer { grid-area: footer; }\n",
        "\n",
        "    .grid-container {\n",
        "      display: grid;\n",
        "      grid-template-areas:\n",
        "        'header header header header'\n",
        "        'menu menu menu right'\n",
        "        'main main main right'\n",
        "        'footer footer footer right';\n",
        "      grid-gap: 10px;\n",
        "      background-color: #2196F3;\n",
        "      padding: 10px;\n",
        "    }\n",
        "\n",
        "    .grid-container > div {\n",
        "      background-color: rgba(255, 255, 255, 0.8);\n",
        "      text-align: center;\n",
        "      padding: 30px 0;\n",
        "      font-size: 30px;\n",
        "    }\n",
        "  </style>\n",
        "</head>\n",
        "<body>\n",
        "<div class=\"grid-container\">\n",
        "  <div class=\"header\">Header</div>\n",
        "  <div class=\"menu\">Menu</div>\n",
        "  <div class=\"main\">Main</div>  \n",
        "  <div class=\"right\">Right</div>\n",
        "  <div class=\"footer\">Footer</div>\n",
        "</div>\n",
        "\n",
        "</body>\n",
        "</html>"
      ],
      "execution_count": null,
      "outputs": [
        {
          "output_type": "display_data",
          "data": {
            "text/html": [
              "<!DOCTYPE html>\n",
              "<html lang=\"en\">\n",
              "<head>\n",
              "  <style>\n",
              "    .header { grid-area: header; }\n",
              "    .menu { grid-area: menu; }\n",
              "    .main { grid-area: main; }\n",
              "    .right { grid-area: right; }\n",
              "    .footer { grid-area: footer; }\n",
              "\n",
              "    .grid-container {\n",
              "      display: grid;\n",
              "      grid-template-areas:\n",
              "        'header header header header'\n",
              "        'menu menu menu right'\n",
              "        'main main main right'\n",
              "        'footer footer footer right';\n",
              "      grid-gap: 10px;\n",
              "      background-color: #2196F3;\n",
              "      padding: 10px;\n",
              "    }\n",
              "\n",
              "    .grid-container > div {\n",
              "      background-color: rgba(255, 255, 255, 0.8);\n",
              "      text-align: center;\n",
              "      padding: 30px 0;\n",
              "      font-size: 30px;\n",
              "    }\n",
              "  </style>\n",
              "</head>\n",
              "<body>\n",
              "<div class=\"grid-container\">\n",
              "  <div class=\"header\">Header</div>\n",
              "  <div class=\"menu\">Menu</div>\n",
              "  <div class=\"main\">Main</div>  \n",
              "  <div class=\"right\">Right</div>\n",
              "  <div class=\"footer\">Footer</div>\n",
              "</div>\n",
              "\n",
              "</body>\n",
              "</html>"
            ],
            "text/plain": [
              "<IPython.core.display.HTML object>"
            ]
          },
          "metadata": {
            "tags": []
          }
        }
      ]
    },
    {
      "cell_type": "code",
      "metadata": {
        "id": "tV-Lv1R67xzL",
        "colab_type": "code",
        "colab": {
          "base_uri": "https://localhost:8080/",
          "height": 723
        },
        "outputId": "a5045629-722a-47ae-9b45-394baa679a25"
      },
      "source": [
        "%%html\n",
        "<!DOCTYPE html>\n",
        "<html lang=\"en\">\n",
        "<head>\n",
        "  <style>\n",
        "    .header { grid-area: header; }\n",
        "    .menu { grid-area: menu; }\n",
        "    .main { grid-area: main; }\n",
        "    .right { grid-area: right; }\n",
        "    .footer { grid-area: footer; }\n",
        "\n",
        "    .grid-container {\n",
        "      display: grid;\n",
        "      grid-template-areas:\n",
        "        'header header header header'\n",
        "        'menu menu menu right'\n",
        "        'main main main right'\n",
        "        'footer footer footer right';\n",
        "      grid-gap: 100px;\n",
        "      background-color: #2196F3;\n",
        "      padding: 10px;\n",
        "    }\n",
        "\n",
        "    .grid-container > div {\n",
        "      background-color: rgba(255, 255, 255, 0.8);\n",
        "      text-align: center;\n",
        "      padding: 30px 0;\n",
        "      font-size: 30px;\n",
        "    }\n",
        "  </style>\n",
        "</head>\n",
        "<body>\n",
        "<div class=\"grid-container\">\n",
        "  <div class=\"header\">Header</div>\n",
        "  <div class=\"menu\">Menu</div>\n",
        "  <div class=\"main\">Main</div>  \n",
        "  <div class=\"right\">Right</div>\n",
        "  <div class=\"footer\">Footer</div>\n",
        "</div>\n",
        "\n",
        "</body>\n",
        "</html>"
      ],
      "execution_count": 8,
      "outputs": [
        {
          "output_type": "display_data",
          "data": {
            "text/html": [
              "<!DOCTYPE html>\n",
              "<html lang=\"en\">\n",
              "<head>\n",
              "  <style>\n",
              "    .header { grid-area: header; }\n",
              "    .menu { grid-area: menu; }\n",
              "    .main { grid-area: main; }\n",
              "    .right { grid-area: right; }\n",
              "    .footer { grid-area: footer; }\n",
              "\n",
              "    .grid-container {\n",
              "      display: grid;\n",
              "      grid-template-areas:\n",
              "        'header header header header'\n",
              "        'menu menu menu right'\n",
              "        'main main main right'\n",
              "        'footer footer footer right';\n",
              "      grid-gap: 100px;\n",
              "      background-color: #2196F3;\n",
              "      padding: 10px;\n",
              "    }\n",
              "\n",
              "    .grid-container > div {\n",
              "      background-color: rgba(255, 255, 255, 0.8);\n",
              "      text-align: center;\n",
              "      padding: 30px 0;\n",
              "      font-size: 30px;\n",
              "    }\n",
              "  </style>\n",
              "</head>\n",
              "<body>\n",
              "<div class=\"grid-container\">\n",
              "  <div class=\"header\">Header</div>\n",
              "  <div class=\"menu\">Menu</div>\n",
              "  <div class=\"main\">Main</div>  \n",
              "  <div class=\"right\">Right</div>\n",
              "  <div class=\"footer\">Footer</div>\n",
              "</div>\n",
              "\n",
              "</body>\n",
              "</html>"
            ],
            "text/plain": [
              "<IPython.core.display.HTML object>"
            ]
          },
          "metadata": {
            "tags": []
          }
        }
      ]
    },
    {
      "cell_type": "code",
      "metadata": {
        "id": "scxDC81BANM1",
        "colab_type": "code",
        "colab": {}
      },
      "source": [
        ""
      ],
      "execution_count": null,
      "outputs": []
    }
  ]
}