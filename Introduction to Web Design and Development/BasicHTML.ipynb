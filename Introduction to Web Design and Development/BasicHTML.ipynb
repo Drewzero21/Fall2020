{
  "nbformat": 4,
  "nbformat_minor": 0,
  "metadata": {
    "colab": {
      "name": "BasicHTML.ipynb",
      "provenance": [],
      "collapsed_sections": [],
      "include_colab_link": true
    },
    "kernelspec": {
      "name": "python3",
      "display_name": "Python 3"
    }
  },
  "cells": [
    {
      "cell_type": "markdown",
      "metadata": {
        "id": "view-in-github",
        "colab_type": "text"
      },
      "source": [
        "<a href=\"https://colab.research.google.com/github/dudaspm/Fall2020/blob/master/Introduction%20to%20Web%20Design%20and%20Development/BasicHTML.ipynb\" target=\"_parent\"><img src=\"https://colab.research.google.com/assets/colab-badge.svg\" alt=\"Open In Colab\"/></a>"
      ]
    },
    {
      "cell_type": "markdown",
      "metadata": {
        "id": "JTYt1x0YriLO",
        "colab_type": "text"
      },
      "source": [
        "This notebook looks at creating an HTML webpage from scratch. asdf\n",
        "\n",
        "The first thing we need to talk about is how Google Colab is rendering or creating the webpages. As mentioned, each of these sections of either text or code are called cells. In cells we want to use to render HTML we need to use...\n",
        "***Magic!***\n",
        "\n",
        "Here is a list of all the [magic commands](https://ipython.readthedocs.io/en/stable/interactive/magics.html)\n",
        "\n",
        "But, for us, we only need html magic. The way we declare or use this html magic is to simply add \n",
        "\n",
        "%%html\n",
        "\n",
        "to the start of the cell. Here is a starting HTML document using the html magic. \n",
        "\n",
        "This will allows us to create actual pages, update the code, and see the results in real-time. At the bottom of the page is an example we will be learning about later in the semester.  "
      ]
    },
    {
      "cell_type": "code",
      "metadata": {
        "id": "IP28DChAj5ua",
        "colab_type": "code",
        "colab": {
          "base_uri": "https://localhost:8080/",
          "height": 34
        },
        "outputId": "daa49c89-7c9e-4562-a885-66aaca6fc198"
      },
      "source": [
        "%%html\n",
        "<!DOCTYPE html>\n",
        "<html lang=\"en\">\n",
        "<head>\n",
        "  <title>I am a title</title>\n",
        "</head>\n",
        "<body>\n",
        "  <p>Hello, World!</p>\n",
        "</body>\n",
        "</html>"
      ],
      "execution_count": null,
      "outputs": [
        {
          "output_type": "display_data",
          "data": {
            "text/html": [
              "<!DOCTYPE html>\n",
              "<html lang=\"en\">\n",
              "<head>\n",
              "  <title>I am a title</title>\n",
              "</head>\n",
              "<body>\n",
              "  Hello, World! \n",
              "</body>\n",
              "</html>"
            ],
            "text/plain": [
              "<IPython.core.display.HTML object>"
            ]
          },
          "metadata": {
            "tags": []
          }
        }
      ]
    },
    {
      "cell_type": "markdown",
      "metadata": {
        "id": "26V6oB3n_F_l",
        "colab_type": "text"
      },
      "source": [
        "First, a couple of things to point out. One, HTML uses opening and closing tags, and then some content in the middle. \n",
        "\n",
        "```html\n",
        "<tag> text </tag>\n",
        "```\n",
        "\n",
        "HTML is a bit difficult to discuss because it is not very strict with these tags. For our purposes, we will be using [Nu Html Checker](https://validator.w3.org/nu) and its guidelines to format our HTML. Some of the basic rules:\n",
        "\n",
        "1) Include the document type \n",
        "\n",
        "```html\n",
        "<!DOCTYPE html>\n",
        "```\n",
        "\n",
        "2) Include the language of the given document \n",
        "\n",
        "```html\n",
        "<html lang=\"en\">\n",
        "```\n",
        "\n",
        "3) tags are all lowercase\n",
        "\n",
        "4) there is always an opening and closing tag\n",
        "\n",
        "5) tags are not mismatched, as in:\n",
        "\n",
        "```html\n",
        "<div><p></div></p> (incorrect!)\n",
        "\n",
        "<div><p></p></div> (correct!)\n",
        "```"
      ]
    },
    {
      "cell_type": "markdown",
      "metadata": {
        "id": "8EbccknjOFtE",
        "colab_type": "text"
      },
      "source": [
        "The best way to think about HTML is to think about it inverted tree. Where the root of this tree is the html tags and the second branches are the head and body tags. As seen the figure below. This tree-like structure is refered to as the Document Object Model (the DOM). The DOM is a very unique programming/coding paradigm."
      ]
    },
    {
      "cell_type": "markdown",
      "metadata": {
        "id": "QtG8YYDO07A6",
        "colab_type": "text"
      },
      "source": [
        "![DOM](https://raw.githubusercontent.com/dudaspm/Fall2020/master/Introduction%20to%20Web%20Design%20and%20Development/images/graph1.svg)"
      ]
    },
    {
      "cell_type": "markdown",
      "metadata": {
        "id": "dUxByLTh16Hb",
        "colab_type": "text"
      },
      "source": [
        "![DOM](https://raw.githubusercontent.com/dudaspm/Fall2020/master/Introduction%20to%20Web%20Design%20and%20Development/images/graph2.svg)"
      ]
    },
    {
      "cell_type": "code",
      "metadata": {
        "id": "OJPX4Uu-19L_",
        "colab_type": "code",
        "colab": {
          "base_uri": "https://localhost:8080/",
          "height": 455
        },
        "outputId": "f9b39999-9ee9-4864-d17e-b89fb18f5ce3"
      },
      "source": [
        "%%html\n",
        "<!DOCTYPE html>\n",
        "<html lang=\"en\">\n",
        "<head>\n",
        "  <style>\n",
        "    .header { grid-area: header; }\n",
        "    .menu { grid-area: menu; }\n",
        "    .main { grid-area: main; }\n",
        "    .right { grid-area: right; }\n",
        "    .footer { grid-area: footer; }\n",
        "\n",
        "    .grid-container {\n",
        "      display: grid;\n",
        "      grid-template-areas:\n",
        "        'header header header header'\n",
        "        'menu menu menu menu'\n",
        "        'main main main right'\n",
        "        'footer footer footer footer';\n",
        "      grid-gap: 10px;\n",
        "      background-color: #2196F3;\n",
        "      padding: 10px;\n",
        "    }\n",
        "\n",
        "    .grid-container > div {\n",
        "      background-color: rgba(255, 255, 255, 0.8);\n",
        "      text-align: center;\n",
        "      padding: 30px 0;\n",
        "      font-size: 30px;\n",
        "    }\n",
        "  </style>\n",
        "</head>\n",
        "<body>\n",
        "<div class=\"grid-container\">\n",
        "  <div class=\"header\">Header</div>\n",
        "  <div class=\"menu\">Menu</div>\n",
        "  <div class=\"main\">Main</div>  \n",
        "  <div class=\"right\">Right</div>\n",
        "  <div class=\"footer\">Footer</div>\n",
        "</div>\n",
        "\n",
        "</body>\n",
        "</html>"
      ],
      "execution_count": null,
      "outputs": [
        {
          "output_type": "display_data",
          "data": {
            "text/html": [
              "<!DOCTYPE html>\n",
              "<html lang=\"en\">\n",
              "<head>\n",
              "  <style>\n",
              "    .header { grid-area: header; }\n",
              "    .menu { grid-area: menu; }\n",
              "    .main { grid-area: main; }\n",
              "    .right { grid-area: right; }\n",
              "    .footer { grid-area: footer; }\n",
              "\n",
              "    .grid-container {\n",
              "      display: grid;\n",
              "      grid-template-areas:\n",
              "        'header header header header'\n",
              "        'menu menu menu menu'\n",
              "        'main main main right'\n",
              "        'footer footer footer footer';\n",
              "      grid-gap: 10px;\n",
              "      background-color: #2196F3;\n",
              "      padding: 10px;\n",
              "    }\n",
              "\n",
              "    .grid-container > div {\n",
              "      background-color: rgba(255, 255, 255, 0.8);\n",
              "      text-align: center;\n",
              "      padding: 30px 0;\n",
              "      font-size: 30px;\n",
              "    }\n",
              "  </style>\n",
              "</head>\n",
              "<body>\n",
              "<div class=\"grid-container\">\n",
              "  <div class=\"header\">Header</div>\n",
              "  <div class=\"menu\">Menu</div>\n",
              "  <div class=\"main\">Main</div>  \n",
              "  <div class=\"right\">Right</div>\n",
              "  <div class=\"footer\">Footer</div>\n",
              "</div>\n",
              "\n",
              "</body>\n",
              "</html>"
            ],
            "text/plain": [
              "<IPython.core.display.HTML object>"
            ]
          },
          "metadata": {
            "tags": []
          }
        }
      ]
    },
    {
      "cell_type": "code",
      "metadata": {
        "id": "OjlLjoREp98s",
        "colab_type": "code",
        "colab": {}
      },
      "source": [
        ""
      ],
      "execution_count": null,
      "outputs": []
    }
  ]
}