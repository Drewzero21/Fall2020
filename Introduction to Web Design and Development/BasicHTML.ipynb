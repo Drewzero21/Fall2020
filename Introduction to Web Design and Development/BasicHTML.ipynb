{
  "nbformat": 4,
  "nbformat_minor": 0,
  "metadata": {
    "colab": {
      "name": "BasicHTML.ipynb",
      "provenance": []
    },
    "kernelspec": {
      "name": "python3",
      "display_name": "Python 3"
    }
  },
  "cells": [
    {
      "cell_type": "markdown",
      "metadata": {
        "id": "JTYt1x0YriLO",
        "colab_type": "text"
      },
      "source": [
        "This notebook looks at creating an HTML webpage from scratch. \n",
        "\n",
        "The first thing we need to talk about is how Google Colab is rendering or creating the webpages. As mentioned, each of these sections of either text or code are called cells. In cells we want to use to render HTML we need to use...\n",
        "***Magic!***\n",
        "\n",
        "Here is a list of all the [magic commands](https://ipython.readthedocs.io/en/stable/interactive/magics.html)\n",
        "\n",
        "But, for us, we only need html magic. The way we declare or use this html magic is to simply add \n",
        "\n",
        "%%html\n",
        "\n",
        "to the start of the cell. Here is a starting HTML document using the html magic."
      ]
    },
    {
      "cell_type": "code",
      "metadata": {
        "id": "IP28DChAj5ua",
        "colab_type": "code",
        "colab": {
          "base_uri": "https://localhost:8080/",
          "height": 34
        },
        "outputId": "45b4aa33-5007-4f75-b23f-ef672f442207"
      },
      "source": [
        "%%html\n",
        "<html>\n",
        "<head>\n",
        "  <title>I am a title</title>\n",
        "</head>\n",
        "<body>\n",
        "  Hello, World! \n",
        "</body>\n",
        "</html>"
      ],
      "execution_count": null,
      "outputs": [
        {
          "output_type": "display_data",
          "data": {
            "text/html": [
              "<html>\n",
              "<head>\n",
              "  <title>I am a title</title>\n",
              "</head>\n",
              "<body>\n",
              "  Hello, World! \n",
              "</body>\n",
              "</html>"
            ],
            "text/plain": [
              "<IPython.core.display.HTML object>"
            ]
          },
          "metadata": {
            "tags": []
          }
        }
      ]
    },
    {
      "cell_type": "markdown",
      "metadata": {
        "id": "26V6oB3n_F_l",
        "colab_type": "text"
      },
      "source": [
        "First, a couple of things to point out. One, HTML uses opening and closing tags, and then some content in the middle. \n",
        "\n",
        "<code>\\<tag>stuff\\</tag></code>\n",
        "\n",
        "HTML is bit difficult to discuss, because it is not very strict on these tags"
      ]
    },
    {
      "cell_type": "markdown",
      "metadata": {
        "id": "QtG8YYDO07A6",
        "colab_type": "text"
      },
      "source": [
        "![DOM](https://raw.githubusercontent.com/dudaspm/Fall2020/master/Introduction%20to%20Web%20Design%20and%20Development/images/graph1.svg)"
      ]
    },
    {
      "cell_type": "markdown",
      "metadata": {
        "id": "dUxByLTh16Hb",
        "colab_type": "text"
      },
      "source": [
        "![DOM](https://raw.githubusercontent.com/dudaspm/Fall2020/master/Introduction%20to%20Web%20Design%20and%20Development/images/graph2.svg)"
      ]
    },
    {
      "cell_type": "code",
      "metadata": {
        "id": "OJPX4Uu-19L_",
        "colab_type": "code",
        "colab": {}
      },
      "source": [
        ""
      ],
      "execution_count": null,
      "outputs": []
    }
  ]
}