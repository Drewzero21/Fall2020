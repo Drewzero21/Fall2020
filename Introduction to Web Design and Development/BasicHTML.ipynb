{
  "nbformat": 4,
  "nbformat_minor": 0,
  "metadata": {
    "colab": {
      "name": "BasicHTML.ipynb",
      "provenance": [],
      "collapsed_sections": [],
      "include_colab_link": true
    },
    "kernelspec": {
      "name": "python3",
      "display_name": "Python 3"
    }
  },
  "cells": [
    {
      "cell_type": "markdown",
      "metadata": {
        "id": "view-in-github",
        "colab_type": "text"
      },
      "source": [
        "<a href=\"https://colab.research.google.com/github/dudaspm/Fall2020/blob/master/Introduction%20to%20Web%20Design%20and%20Development/BasicHTML.ipynb\" target=\"_parent\"><img src=\"https://colab.research.google.com/assets/colab-badge.svg\" alt=\"Open In Colab\"/></a>"
      ]
    },
    {
      "cell_type": "markdown",
      "metadata": {
        "id": "JTYt1x0YriLO",
        "colab_type": "text"
      },
      "source": [
        "This notebook looks at creating an HTML webpage from scratch.\n",
        "\n",
        "The first thing we need to talk about is how Google Colab is rendering or creating the webpages. As mentioned, each of these sections of either text or code are called cells. In cells we want to use to render HTML we need to use...\n",
        "***Magic!***\n",
        "\n",
        "Here is a list of all the [magic commands](https://ipython.readthedocs.io/en/stable/interactive/magics.html)\n",
        "\n",
        "But, for us, we only need html magic. The way we declare or use this html magic is to simply add \n",
        "\n",
        "%%html\n",
        "\n",
        "to the start of the cell. Here is a starting HTML document using the html magic. \n",
        "\n",
        "This will allows us to create actual pages, update the code, and see the results in real-time. At the bottom of the page is an example we will be learning about later in the semester.  "
      ]
    },
    {
      "cell_type": "code",
      "metadata": {
        "id": "IP28DChAj5ua",
        "colab_type": "code",
        "colab": {
          "base_uri": "https://localhost:8080/",
          "height": 34
        },
        "outputId": "daa49c89-7c9e-4562-a885-66aaca6fc198"
      },
      "source": [
        "%%html\n",
        "<!DOCTYPE html>\n",
        "<html lang=\"en\">\n",
        "<head>\n",
        "  <title>I am a title</title>\n",
        "</head>\n",
        "<body>\n",
        "  <p>Hello, World!</p>\n",
        "</body>\n",
        "</html>"
      ],
      "execution_count": null,
      "outputs": [
        {
          "output_type": "display_data",
          "data": {
            "text/html": [
              "<!DOCTYPE html>\n",
              "<html lang=\"en\">\n",
              "<head>\n",
              "  <title>I am a title</title>\n",
              "</head>\n",
              "<body>\n",
              "  Hello, World! \n",
              "</body>\n",
              "</html>"
            ],
            "text/plain": [
              "<IPython.core.display.HTML object>"
            ]
          },
          "metadata": {
            "tags": []
          }
        }
      ]
    },
    {
      "cell_type": "markdown",
      "metadata": {
        "id": "26V6oB3n_F_l",
        "colab_type": "text"
      },
      "source": [
        "First, a couple of things to point out. One, HTML uses opening and closing tags, and then some content in the middle. \n",
        "\n",
        "```html\n",
        "<tag> text </tag>\n",
        "```\n",
        "\n",
        "HTML is a bit difficult to discuss because it is not very strict with these tags. For our purposes, we will be using [Nu Html Checker](https://validator.w3.org/nu) and its guidelines to format our HTML. Some of the basic rules:\n",
        "\n",
        "1) Include the document type \n",
        "\n",
        "```html\n",
        "<!DOCTYPE html>\n",
        "```\n",
        "\n",
        "2) Include the language of the given document \n",
        "\n",
        "```html\n",
        "<html lang=\"en\">\n",
        "```\n",
        "\n",
        "3) tags are all lowercase\n",
        "\n",
        "4) there is always an opening and closing tag\n",
        "\n",
        "5) tags are not mismatched, as in:\n",
        "\n",
        "```html\n",
        "<div><p></div></p> (incorrect!)\n",
        "\n",
        "<div><p></p></div> (correct!)\n",
        "```"
      ]
    },
    {
      "cell_type": "markdown",
      "metadata": {
        "id": "8EbccknjOFtE",
        "colab_type": "text"
      },
      "source": [
        "The best way to think about HTML is to think about it inverted tree. Where the root of this tree is the html tags and the second branches are the head and body tags. As seen the figure below. This tree-like structure is refered to as the Document Object Model (the DOM). The DOM is a very unique programming/coding paradigm."
      ]
    },
    {
      "cell_type": "markdown",
      "metadata": {
        "id": "QtG8YYDO07A6",
        "colab_type": "text"
      },
      "source": [
        "![DOM](https://raw.githubusercontent.com/dudaspm/Fall2020/master/Introduction%20to%20Web%20Design%20and%20Development/images/graph1.svg)"
      ]
    },
    {
      "cell_type": "markdown",
      "metadata": {
        "id": "w7rh2ZyeSgHo",
        "colab_type": "text"
      },
      "source": [
        "Inside of the DOM, we can add additional tags within each of the sections, which builds out our inverted tree. The figure below shows this progression:\n",
        "\n",
        "* the HTML document\n",
        "  * head\n",
        "    * title\n",
        "  * body\n",
        "    * p\n",
        "      * (text) Hello, World!"
      ]
    },
    {
      "cell_type": "markdown",
      "metadata": {
        "id": "dUxByLTh16Hb",
        "colab_type": "text"
      },
      "source": [
        "![DOM](https://raw.githubusercontent.com/dudaspm/Fall2020/master/Introduction%20to%20Web%20Design%20and%20Development/images/graph2.svg)"
      ]
    },
    {
      "cell_type": "markdown",
      "metadata": {
        "id": "x3jZ9nuUTKiE",
        "colab_type": "text"
      },
      "source": [
        "As mentioned, for those who have programming experience, HTML is... well... weird. "
      ]
    },
    {
      "cell_type": "code",
      "metadata": {
        "id": "OjlLjoREp98s",
        "colab_type": "code",
        "colab": {
          "base_uri": "https://localhost:8080/",
          "height": 45
        },
        "outputId": "0baaf94e-fe8e-4507-f071-05f3658e1553"
      },
      "source": [
        "%%html\n",
        "<!DOCTYPE html>\n",
        "<html lang=\"en\">\n",
        "<header>\n",
        "  <title>I am a title</title>\n",
        "</head>\n",
        "<BODY>\n",
        "  <p>Hello, World!<p>\n",
        "</body>\n",
        "</html>"
      ],
      "execution_count": null,
      "outputs": [
        {
          "output_type": "display_data",
          "data": {
            "text/html": [
              "<!DOCTYPE html>\n",
              "<html lang=\"en\">\n",
              "<header>\n",
              "  <title>I am a title</title>\n",
              "</head>\n",
              "<BODY>\n",
              "  <p>Hello, World!<p>\n",
              "</body>\n",
              "</html>"
            ],
            "text/plain": [
              "<IPython.core.display.HTML object>"
            ]
          },
          "metadata": {
            "tags": []
          }
        }
      ]
    },
    {
      "cell_type": "markdown",
      "metadata": {
        "id": "-bPrJ0SgR3PX",
        "colab_type": "text"
      },
      "source": [
        "There are 4 ways to run this file:\n",
        "\n",
        "1. In Google Colab\n",
        "\n",
        "2. Locally, on your machine (Go to Canvas > Files > Week2 > index.html)\n",
        "\n",
        "3. Go to: https://www.up.ist.psu.edu/ (WEB SPACE)\n",
        "\n",
        "  a. https://my.up.ist.psu.edu/pmd19/IST250/badpage/\n",
        "\n",
        "4. Go to: https://www.personal.psu.edu/ \n",
        "\n",
        "  a. http://personal.psu.edu/pmd19/IST250/badpage/ "
      ]
    },
    {
      "cell_type": "markdown",
      "metadata": {
        "id": "h1C1VLq5T1Np",
        "colab_type": "text"
      },
      "source": [
        "What you need to do today...\n",
        "\n",
        "Below is code for adding an image to our HTML page. Using one of the images from Lab1, create a page that shows your image and make sure you can complete all 4 of the methods listed above. You will NOT be turning anything in, this is just practice. "
      ]
    },
    {
      "cell_type": "code",
      "metadata": {
        "id": "1j64fkBlRPdn",
        "colab_type": "code",
        "colab": {
          "base_uri": "https://localhost:8080/",
          "height": 250
        },
        "outputId": "a400c4db-6afd-4aed-b8f2-b13a2c62b216"
      },
      "source": [
        "%%html\n",
        "<!DOCTYPE html>\n",
        "<html lang=\"en\">\n",
        "<head>\n",
        "  <title>picture</title>\n",
        "</head>\n",
        "<body>\n",
        "  <p>HTML Hierarchy</p>\n",
        "  <img src=\"https://raw.githubusercontent.com/dudaspm/Fall2020/master/Introduction%20to%20Web%20Design%20and%20Development/images/graph1.png\" alt=\"HTML Hierarchy\" width=\"250\" height=\"200\">\n",
        "</body>\n",
        "</html>"
      ],
      "execution_count": null,
      "outputs": [
        {
          "output_type": "display_data",
          "data": {
            "text/html": [
              "<!DOCTYPE html>\n",
              "<html lang=\"en\">\n",
              "<head>\n",
              "  <title>picture</title>\n",
              "</head>\n",
              "<body>\n",
              "  <p>HTML Hierarchy</p>\n",
              "  <img src=\"https://raw.githubusercontent.com/dudaspm/Fall2020/master/Introduction%20to%20Web%20Design%20and%20Development/images/graph1.png\" alt=\"HTML Hierarchy\" width=\"250\" height=\"200\">\n",
              "</body>\n",
              "</html>"
            ],
            "text/plain": [
              "<IPython.core.display.HTML object>"
            ]
          },
          "metadata": {
            "tags": []
          }
        }
      ]
    },
    {
      "cell_type": "code",
      "metadata": {
        "id": "MccbVV58Uj1G",
        "colab_type": "code",
        "colab": {}
      },
      "source": [
        ""
      ],
      "execution_count": null,
      "outputs": []
    }
  ]
}