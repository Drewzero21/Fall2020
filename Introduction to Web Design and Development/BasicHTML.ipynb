{
  "nbformat": 4,
  "nbformat_minor": 0,
  "metadata": {
    "colab": {
      "name": "BasicHTML.ipynb",
      "provenance": [],
      "authorship_tag": "ABX9TyOo5yDPZV0SH6pwY/JQqARp",
      "include_colab_link": true
    },
    "kernelspec": {
      "name": "python3",
      "display_name": "Python 3"
    }
  },
  "cells": [
    {
      "cell_type": "markdown",
      "metadata": {
        "id": "view-in-github",
        "colab_type": "text"
      },
      "source": [
        "<a href=\"https://colab.research.google.com/github/dudaspm/Fall2020/blob/master/Introduction%20to%20Web%20Design%20and%20Development/BasicHTML.ipynb\" target=\"_parent\"><img src=\"https://colab.research.google.com/assets/colab-badge.svg\" alt=\"Open In Colab\"/></a>"
      ]
    },
    {
      "cell_type": "markdown",
      "metadata": {
        "id": "JTYt1x0YriLO",
        "colab_type": "text"
      },
      "source": [
        "This notebook looks at creating an HTML webpage from scratch. \n",
        "\n",
        "The first thing we need to talk about is how Google Colab is rendering or creating the webpages. As mentioned, each of these sections of either text or code are called cells. In cells we want to use to render HTML we need to use...\n",
        "***Magic!***\n",
        "\n",
        "Here is a list of all the [magic commands](https://ipython.readthedocs.io/en/stable/interactive/magics.html)\n",
        "\n",
        "But, for us, we only need html magic. The way we declare or use this html magic is to simply add \n",
        "\n",
        "%%html\n",
        "\n",
        "to the start of the cell. Here is a starting HTML document using the html magic."
      ]
    },
    {
      "cell_type": "code",
      "metadata": {
        "id": "IP28DChAj5ua",
        "colab_type": "code",
        "colab": {
          "base_uri": "https://localhost:8080/",
          "height": 34
        },
        "outputId": "45b4aa33-5007-4f75-b23f-ef672f442207"
      },
      "source": [
        "%%html\n",
        "<html>\n",
        "<head>\n",
        "  <title>I am a title</title>\n",
        "</head>\n",
        "<body>\n",
        "  Hello, World! \n",
        "</body>\n",
        "</html>"
      ],
      "execution_count": 2,
      "outputs": [
        {
          "output_type": "display_data",
          "data": {
            "text/html": [
              "<html>\n",
              "<head>\n",
              "  <title>I am a title</title>\n",
              "</head>\n",
              "<body>\n",
              "  Hello, World! \n",
              "</body>\n",
              "</html>"
            ],
            "text/plain": [
              "<IPython.core.display.HTML object>"
            ]
          },
          "metadata": {
            "tags": []
          }
        }
      ]
    },
    {
      "cell_type": "markdown",
      "metadata": {
        "id": "QtG8YYDO07A6",
        "colab_type": "text"
      },
      "source": [
        "![DOM](https://raw.githubusercontent.com/dudaspm/Fall2020/master/Introduction%20to%20Web%20Design%20and%20Development/images/graph2.svg)"
      ]
    },
    {
      "cell_type": "code",
      "metadata": {
        "id": "cPi0g9WEj_he",
        "colab_type": "code",
        "colab": {
          "base_uri": "https://localhost:8080/",
          "height": 175
        },
        "outputId": "18f25789-ad59-4797-dc12-bcf809c0e559"
      },
      "source": [
        "from graphviz import Digraph\n",
        "from google.colab import files\n",
        "\n",
        "HTMLTree = Digraph(format='png')\n",
        "\n",
        "HTMLTree.node('HTML', 'html')\n",
        "HTMLTree.node('head', 'head')\n",
        "HTMLTree.node('body', 'body')\n",
        "\n",
        "HTMLTree.edge('HTML', 'head')\n",
        "HTMLTree.edge('HTML', 'body')\n",
        "HTMLTree.render('graph1', view=True) \n",
        "files.download(\"graph1.png\") \n",
        "HTMLTree"
      ],
      "execution_count": 22,
      "outputs": [
        {
          "output_type": "display_data",
          "data": {
            "application/javascript": [
              "\n",
              "    async function download(id, filename, size) {\n",
              "      if (!google.colab.kernel.accessAllowed) {\n",
              "        return;\n",
              "      }\n",
              "      const div = document.createElement('div');\n",
              "      const label = document.createElement('label');\n",
              "      label.textContent = `Downloading \"${filename}\": `;\n",
              "      div.appendChild(label);\n",
              "      const progress = document.createElement('progress');\n",
              "      progress.max = size;\n",
              "      div.appendChild(progress);\n",
              "      document.body.appendChild(div);\n",
              "\n",
              "      const buffers = [];\n",
              "      let downloaded = 0;\n",
              "\n",
              "      const channel = await google.colab.kernel.comms.open(id);\n",
              "      // Send a message to notify the kernel that we're ready.\n",
              "      channel.send({})\n",
              "\n",
              "      for await (const message of channel.messages) {\n",
              "        // Send a message to notify the kernel that we're ready.\n",
              "        channel.send({})\n",
              "        if (message.buffers) {\n",
              "          for (const buffer of message.buffers) {\n",
              "            buffers.push(buffer);\n",
              "            downloaded += buffer.byteLength;\n",
              "            progress.value = downloaded;\n",
              "          }\n",
              "        }\n",
              "      }\n",
              "      const blob = new Blob(buffers, {type: 'application/binary'});\n",
              "      const a = document.createElement('a');\n",
              "      a.href = window.URL.createObjectURL(blob);\n",
              "      a.download = filename;\n",
              "      div.appendChild(a);\n",
              "      a.click();\n",
              "      div.remove();\n",
              "    }\n",
              "  "
            ],
            "text/plain": [
              "<IPython.core.display.Javascript object>"
            ]
          },
          "metadata": {
            "tags": []
          }
        },
        {
          "output_type": "display_data",
          "data": {
            "application/javascript": [
              "download(\"download_10b5a13c-2a22-4280-a1b8-2f93063c50db\", \"graph1.png\", 10068)"
            ],
            "text/plain": [
              "<IPython.core.display.Javascript object>"
            ]
          },
          "metadata": {
            "tags": []
          }
        },
        {
          "output_type": "execute_result",
          "data": {
            "text/plain": [
              "<graphviz.dot.Digraph at 0x7f5035776710>"
            ],
            "image/svg+xml": "<?xml version=\"1.0\" encoding=\"UTF-8\" standalone=\"no\"?>\n<!DOCTYPE svg PUBLIC \"-//W3C//DTD SVG 1.1//EN\"\n \"http://www.w3.org/Graphics/SVG/1.1/DTD/svg11.dtd\">\n<!-- Generated by graphviz version 2.40.1 (20161225.0304)\n -->\n<!-- Title: %3 Pages: 1 -->\n<svg width=\"144pt\" height=\"116pt\"\n viewBox=\"0.00 0.00 144.14 116.00\" xmlns=\"http://www.w3.org/2000/svg\" xmlns:xlink=\"http://www.w3.org/1999/xlink\">\n<g id=\"graph0\" class=\"graph\" transform=\"scale(1 1) rotate(0) translate(4 112)\">\n<title>%3</title>\n<polygon fill=\"#ffffff\" stroke=\"transparent\" points=\"-4,4 -4,-112 140.1448,-112 140.1448,4 -4,4\"/>\n<!-- HTML -->\n<g id=\"node1\" class=\"node\">\n<title>HTML</title>\n<ellipse fill=\"none\" stroke=\"#000000\" cx=\"66.5975\" cy=\"-90\" rx=\"27.8951\" ry=\"18\"/>\n<text text-anchor=\"middle\" x=\"66.5975\" y=\"-86.3\" font-family=\"Times,serif\" font-size=\"14.00\" fill=\"#000000\">html</text>\n</g>\n<!-- head -->\n<g id=\"node2\" class=\"node\">\n<title>head</title>\n<ellipse fill=\"none\" stroke=\"#000000\" cx=\"28.5975\" cy=\"-18\" rx=\"28.6953\" ry=\"18\"/>\n<text text-anchor=\"middle\" x=\"28.5975\" y=\"-14.3\" font-family=\"Times,serif\" font-size=\"14.00\" fill=\"#000000\">head</text>\n</g>\n<!-- HTML&#45;&gt;head -->\n<g id=\"edge1\" class=\"edge\">\n<title>HTML&#45;&gt;head</title>\n<path fill=\"none\" stroke=\"#000000\" d=\"M57.592,-72.937C53.1147,-64.4537 47.6023,-54.0092 42.5904,-44.513\"/>\n<polygon fill=\"#000000\" stroke=\"#000000\" points=\"45.5653,-42.6509 37.8023,-35.4407 39.3746,-45.9182 45.5653,-42.6509\"/>\n</g>\n<!-- body -->\n<g id=\"node3\" class=\"node\">\n<title>body</title>\n<ellipse fill=\"none\" stroke=\"#000000\" cx=\"105.5975\" cy=\"-18\" rx=\"30.5947\" ry=\"18\"/>\n<text text-anchor=\"middle\" x=\"105.5975\" y=\"-14.3\" font-family=\"Times,serif\" font-size=\"14.00\" fill=\"#000000\">body</text>\n</g>\n<!-- HTML&#45;&gt;body -->\n<g id=\"edge2\" class=\"edge\">\n<title>HTML&#45;&gt;body</title>\n<path fill=\"none\" stroke=\"#000000\" d=\"M75.8399,-72.937C80.435,-64.4537 86.0925,-54.0092 91.2363,-44.513\"/>\n<polygon fill=\"#000000\" stroke=\"#000000\" points=\"94.4651,-45.9006 96.1504,-35.4407 88.31,-42.5666 94.4651,-45.9006\"/>\n</g>\n</g>\n</svg>\n"
          },
          "metadata": {
            "tags": []
          },
          "execution_count": 22
        }
      ]
    },
    {
      "cell_type": "code",
      "metadata": {
        "id": "peEU5U3QcQgz",
        "colab_type": "code",
        "colab": {
          "base_uri": "https://localhost:8080/",
          "height": 271
        },
        "outputId": "7026bd49-7042-42fd-a641-16236a1b3da5"
      },
      "source": [
        "from graphviz import Digraph\n",
        "from google.colab import files\n",
        "\n",
        "HTMLTree = Digraph(format='svg')\n",
        "\n",
        "HTMLTree.node('HTML')\n",
        "HTMLTree.node('head')\n",
        "HTMLTree.node('body')\n",
        "HTMLTree.node('title')\n",
        "HTMLTree.node('hello')\n",
        "\n",
        "HTMLTree.edge('HTML', 'head')\n",
        "HTMLTree.edge('head', 'title')\n",
        "HTMLTree.edge('HTML', 'body')\n",
        "HTMLTree.edge('body', 'hello')\n",
        "\n",
        "HTMLTree.render('graph2', view=True) \n",
        "files.download(\"graph2.svg\") \n",
        "HTMLTree"
      ],
      "execution_count": 24,
      "outputs": [
        {
          "output_type": "display_data",
          "data": {
            "application/javascript": [
              "\n",
              "    async function download(id, filename, size) {\n",
              "      if (!google.colab.kernel.accessAllowed) {\n",
              "        return;\n",
              "      }\n",
              "      const div = document.createElement('div');\n",
              "      const label = document.createElement('label');\n",
              "      label.textContent = `Downloading \"${filename}\": `;\n",
              "      div.appendChild(label);\n",
              "      const progress = document.createElement('progress');\n",
              "      progress.max = size;\n",
              "      div.appendChild(progress);\n",
              "      document.body.appendChild(div);\n",
              "\n",
              "      const buffers = [];\n",
              "      let downloaded = 0;\n",
              "\n",
              "      const channel = await google.colab.kernel.comms.open(id);\n",
              "      // Send a message to notify the kernel that we're ready.\n",
              "      channel.send({})\n",
              "\n",
              "      for await (const message of channel.messages) {\n",
              "        // Send a message to notify the kernel that we're ready.\n",
              "        channel.send({})\n",
              "        if (message.buffers) {\n",
              "          for (const buffer of message.buffers) {\n",
              "            buffers.push(buffer);\n",
              "            downloaded += buffer.byteLength;\n",
              "            progress.value = downloaded;\n",
              "          }\n",
              "        }\n",
              "      }\n",
              "      const blob = new Blob(buffers, {type: 'application/binary'});\n",
              "      const a = document.createElement('a');\n",
              "      a.href = window.URL.createObjectURL(blob);\n",
              "      a.download = filename;\n",
              "      div.appendChild(a);\n",
              "      a.click();\n",
              "      div.remove();\n",
              "    }\n",
              "  "
            ],
            "text/plain": [
              "<IPython.core.display.Javascript object>"
            ]
          },
          "metadata": {
            "tags": []
          }
        },
        {
          "output_type": "display_data",
          "data": {
            "application/javascript": [
              "download(\"download_27d0ed7d-ae85-46e8-a0a7-7e6e8bef07a8\", \"graph2.svg\", 3275)"
            ],
            "text/plain": [
              "<IPython.core.display.Javascript object>"
            ]
          },
          "metadata": {
            "tags": []
          }
        },
        {
          "output_type": "execute_result",
          "data": {
            "text/plain": [
              "<graphviz.dot.Digraph at 0x7f503577e0f0>"
            ],
            "image/svg+xml": "<?xml version=\"1.0\" encoding=\"UTF-8\" standalone=\"no\"?>\n<!DOCTYPE svg PUBLIC \"-//W3C//DTD SVG 1.1//EN\"\n \"http://www.w3.org/Graphics/SVG/1.1/DTD/svg11.dtd\">\n<!-- Generated by graphviz version 2.40.1 (20161225.0304)\n -->\n<!-- Title: %3 Pages: 1 -->\n<svg width=\"144pt\" height=\"188pt\"\n viewBox=\"0.00 0.00 144.14 188.00\" xmlns=\"http://www.w3.org/2000/svg\" xmlns:xlink=\"http://www.w3.org/1999/xlink\">\n<g id=\"graph0\" class=\"graph\" transform=\"scale(1 1) rotate(0) translate(4 184)\">\n<title>%3</title>\n<polygon fill=\"#ffffff\" stroke=\"transparent\" points=\"-4,4 -4,-184 140.1448,-184 140.1448,4 -4,4\"/>\n<!-- HTML -->\n<g id=\"node1\" class=\"node\">\n<title>HTML</title>\n<ellipse fill=\"none\" stroke=\"#000000\" cx=\"66.5975\" cy=\"-162\" rx=\"37.8943\" ry=\"18\"/>\n<text text-anchor=\"middle\" x=\"66.5975\" y=\"-158.3\" font-family=\"Times,serif\" font-size=\"14.00\" fill=\"#000000\">HTML</text>\n</g>\n<!-- head -->\n<g id=\"node2\" class=\"node\">\n<title>head</title>\n<ellipse fill=\"none\" stroke=\"#000000\" cx=\"28.5975\" cy=\"-90\" rx=\"28.6953\" ry=\"18\"/>\n<text text-anchor=\"middle\" x=\"28.5975\" y=\"-86.3\" font-family=\"Times,serif\" font-size=\"14.00\" fill=\"#000000\">head</text>\n</g>\n<!-- HTML&#45;&gt;head -->\n<g id=\"edge1\" class=\"edge\">\n<title>HTML&#45;&gt;head</title>\n<path fill=\"none\" stroke=\"#000000\" d=\"M57.2042,-144.2022C52.7206,-135.7071 47.2685,-125.3767 42.3314,-116.0223\"/>\n<polygon fill=\"#000000\" stroke=\"#000000\" points=\"45.384,-114.3074 37.621,-107.0972 39.1933,-117.5748 45.384,-114.3074\"/>\n</g>\n<!-- body -->\n<g id=\"node3\" class=\"node\">\n<title>body</title>\n<ellipse fill=\"none\" stroke=\"#000000\" cx=\"105.5975\" cy=\"-90\" rx=\"30.5947\" ry=\"18\"/>\n<text text-anchor=\"middle\" x=\"105.5975\" y=\"-86.3\" font-family=\"Times,serif\" font-size=\"14.00\" fill=\"#000000\">body</text>\n</g>\n<!-- HTML&#45;&gt;body -->\n<g id=\"edge3\" class=\"edge\">\n<title>HTML&#45;&gt;body</title>\n<path fill=\"none\" stroke=\"#000000\" d=\"M76.0383,-144.5708C80.6371,-136.0807 86.2638,-125.6929 91.3693,-116.2674\"/>\n<polygon fill=\"#000000\" stroke=\"#000000\" points=\"94.5582,-117.7286 96.2436,-107.2687 88.4032,-114.3946 94.5582,-117.7286\"/>\n</g>\n<!-- title -->\n<g id=\"node4\" class=\"node\">\n<title>title</title>\n<ellipse fill=\"none\" stroke=\"#000000\" cx=\"28.5975\" cy=\"-18\" rx=\"27\" ry=\"18\"/>\n<text text-anchor=\"middle\" x=\"28.5975\" y=\"-14.3\" font-family=\"Times,serif\" font-size=\"14.00\" fill=\"#000000\">title</text>\n</g>\n<!-- head&#45;&gt;title -->\n<g id=\"edge2\" class=\"edge\">\n<title>head&#45;&gt;title</title>\n<path fill=\"none\" stroke=\"#000000\" d=\"M28.5975,-71.8314C28.5975,-64.131 28.5975,-54.9743 28.5975,-46.4166\"/>\n<polygon fill=\"#000000\" stroke=\"#000000\" points=\"32.0976,-46.4132 28.5975,-36.4133 25.0976,-46.4133 32.0976,-46.4132\"/>\n</g>\n<!-- hello -->\n<g id=\"node5\" class=\"node\">\n<title>hello</title>\n<ellipse fill=\"none\" stroke=\"#000000\" cx=\"105.5975\" cy=\"-18\" rx=\"29.4969\" ry=\"18\"/>\n<text text-anchor=\"middle\" x=\"105.5975\" y=\"-14.3\" font-family=\"Times,serif\" font-size=\"14.00\" fill=\"#000000\">hello</text>\n</g>\n<!-- body&#45;&gt;hello -->\n<g id=\"edge4\" class=\"edge\">\n<title>body&#45;&gt;hello</title>\n<path fill=\"none\" stroke=\"#000000\" d=\"M105.5975,-71.8314C105.5975,-64.131 105.5975,-54.9743 105.5975,-46.4166\"/>\n<polygon fill=\"#000000\" stroke=\"#000000\" points=\"109.0976,-46.4132 105.5975,-36.4133 102.0976,-46.4133 109.0976,-46.4132\"/>\n</g>\n</g>\n</svg>\n"
          },
          "metadata": {
            "tags": []
          },
          "execution_count": 24
        }
      ]
    },
    {
      "cell_type": "code",
      "metadata": {
        "id": "U196NKm5vIs2",
        "colab_type": "code",
        "colab": {}
      },
      "source": [
        ""
      ],
      "execution_count": null,
      "outputs": []
    }
  ]
}