{
  "nbformat": 4,
  "nbformat_minor": 0,
  "metadata": {
    "colab": {
      "name": "Pet Shop Lab 2",
      "provenance": [],
      "authorship_tag": "ABX9TyPM1vrr+2ud4jwRfRP/Nn4f",
      "include_colab_link": true
    },
    "kernelspec": {
      "name": "python3",
      "display_name": "Python 3"
    }
  },
  "cells": [
    {
      "cell_type": "markdown",
      "metadata": {
        "id": "view-in-github",
        "colab_type": "text"
      },
      "source": [
        "<a href=\"https://colab.research.google.com/github/Drewzero21/Fall2020/blob/master/Pet_Shop_Lab_2.ipynb\" target=\"_parent\"><img src=\"https://colab.research.google.com/assets/colab-badge.svg\" alt=\"Open In Colab\"/></a>"
      ]
    },
    {
      "cell_type": "code",
      "metadata": {
        "id": "DCTGNZ0Pa6-K"
      },
      "source": [
        ""
      ],
      "execution_count": null,
      "outputs": []
    },
    {
      "cell_type": "markdown",
      "metadata": {
        "id": "Y9-aq_ppeyr5"
      },
      "source": [
        "![Lab 2 Pet Shop](https://raw.githubusercontent.com/Drewzero21/diagram/master/Lab%202%20Pet%20Shop%20.png)"
      ]
    },
    {
      "cell_type": "markdown",
      "metadata": {
        "id": "ERsVxbQuhrBi"
      },
      "source": [
        "I designed the diagram sort of as a data flow diagram. The Pet enclosures are in the store. The enclosures have the enclosure number and are based off pets, size, and conditions. The Pets are based off their species, birth date, and type of food they eat. The food is based on food brand, how much it is, and its location. The pets flow over to the pet adoption. Customers have the customer loyalty program which is applied both to the adoption and the food purchase. Key words such as Food or customer loyalty connect the tables above. This network of data is a model that can help the pet store. "
      ]
    },
    {
      "cell_type": "code",
      "metadata": {
        "id": "7b_LvhqypqWQ"
      },
      "source": [
        ""
      ],
      "execution_count": null,
      "outputs": []
    },
    {
      "cell_type": "code",
      "metadata": {
        "id": "UeXzTDSwa99y"
      },
      "source": [
        ""
      ],
      "execution_count": null,
      "outputs": []
    }
  ]
}